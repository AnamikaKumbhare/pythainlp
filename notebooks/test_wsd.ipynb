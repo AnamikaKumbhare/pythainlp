{
 "cells": [
  {
   "cell_type": "code",
   "execution_count": 1,
   "id": "70e6b5ba-063d-4e53-a312-2380b49bc3a9",
   "metadata": {
    "tags": []
   },
   "outputs": [],
   "source": [
    "from pythainlp.wsd import get_sense"
   ]
  },
  {
   "cell_type": "code",
   "execution_count": 2,
   "id": "2ef43b65-5df9-42e3-a712-0e60ca64ea16",
   "metadata": {
    "tags": []
   },
   "outputs": [
    {
     "name": "stdout",
     "output_type": "stream",
     "text": [
      "Setting ds_accelerator to cuda (auto detect)\n"
     ]
    },
    {
     "data": {
      "text/plain": [
       "[('โปรแกรมคอมพิวเตอร์ใช้ในทางอินเทอร์เน็ตสำหรับเก็บข้อมูลของผู้ใช้งาน',\n",
       "  0.0974416732788086),\n",
       " ('ชื่อขนมชนิดหนึ่งจำพวกขนมเค้ก แต่ทำเป็นชิ้นเล็ก ๆ แบน ๆ แล้วอบให้กรอบ',\n",
       "  0.09319090843200684)]"
      ]
     },
     "execution_count": 2,
     "metadata": {},
     "output_type": "execute_result"
    }
   ],
   "source": [
    "get_sense(\"เขากำลังอบขนมคุกกี้\",\"คุกกี้\")"
   ]
  },
  {
   "cell_type": "code",
   "execution_count": 3,
   "id": "6aafefdf-4658-4e35-b69f-7d2b54e34d33",
   "metadata": {
    "tags": []
   },
   "outputs": [
    {
     "data": {
      "text/plain": [
       "[('โปรแกรมคอมพิวเตอร์ใช้ในทางอินเทอร์เน็ตสำหรับเก็บข้อมูลของผู้ใช้งาน',\n",
       "  0.1005704402923584),\n",
       " ('ชื่อขนมชนิดหนึ่งจำพวกขนมเค้ก แต่ทำเป็นชิ้นเล็ก ๆ แบน ๆ แล้วอบให้กรอบ',\n",
       "  0.12473666667938232)]"
      ]
     },
     "execution_count": 3,
     "metadata": {},
     "output_type": "execute_result"
    }
   ],
   "source": [
    "get_sense(\"เว็บนี้ต้องการคุกกี้ในการทำงาน\",\"คุกกี้\")"
   ]
  },
  {
   "cell_type": "code",
   "execution_count": null,
   "id": "b0ee35fc-f26e-4bce-b6fa-0e1efc863ae4",
   "metadata": {},
   "outputs": [],
   "source": []
  }
 ],
 "metadata": {
  "kernelspec": {
   "display_name": "Python 3 (ipykernel)",
   "language": "python",
   "name": "python3"
  },
  "language_info": {
   "codemirror_mode": {
    "name": "ipython",
    "version": 3
   },
   "file_extension": ".py",
   "mimetype": "text/x-python",
   "name": "python",
   "nbconvert_exporter": "python",
   "pygments_lexer": "ipython3",
   "version": "3.8.10"
  }
 },
 "nbformat": 4,
 "nbformat_minor": 5
}
