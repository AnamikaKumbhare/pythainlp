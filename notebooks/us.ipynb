{
 "cells": [
  {
   "cell_type": "code",
   "execution_count": 78,
   "metadata": {},
   "outputs": [
    {
     "name": "stdout",
     "output_type": "stream",
     "text": [
      "/workspaces/pythainlp/pythainlp/corpus/thai2rom_decoder.onnx\n"
     ]
    }
   ],
   "source": [
    "from  pythainlp.transliterate.thai2rom import ThaiTransliterator\n",
    "_THAI_TO_ROM = ThaiTransliterator()"
   ]
  },
  {
   "cell_type": "code",
   "execution_count": 79,
   "metadata": {},
   "outputs": [],
   "source": [
    "import torch\n",
    "from pythainlp.corpus import get_corpus_path\n",
    "from  pythainlp.transliterate.thai2rom import _MODEL_NAME\n",
    "\n",
    "loader = torch.load(get_corpus_path(_MODEL_NAME), 'cpu')"
   ]
  },
  {
   "cell_type": "code",
   "execution_count": 80,
   "metadata": {},
   "outputs": [],
   "source": [
    "loader_onnx = {\n",
    "    'output_dim': loader['decoder_params'][0], \n",
    "    'ix_to_char': loader['ix_to_char'], \n",
    "    'char_to_ix': loader['char_to_ix'], \n",
    "    'target_char_to_ix': loader['target_char_to_ix'], \n",
    "    'ix_to_target_char': loader['ix_to_target_char']\n",
    "}"
   ]
  },
  {
   "cell_type": "code",
   "execution_count": 82,
   "metadata": {},
   "outputs": [],
   "source": [
    "import json\n",
    "\n",
    "with open('thai2rom_loader_onnx.json', 'w') as f:\n",
    "    json.dump(loader_onnx, f)"
   ]
  },
  {
   "cell_type": "code",
   "execution_count": 4,
   "metadata": {},
   "outputs": [],
   "source": [
    "import torch\n",
    "import numpy as np\n",
    "\n",
    "input_tensor = torch.Tensor([[30, 19,  8, 30, 38, 37, 10, 3]]).long()\n",
    "\n",
    "input_length = torch.Tensor([8]).int()\n",
    "\n",
    "dummy_vars_encoder =  (input_tensor, input_length)"
   ]
  },
  {
   "cell_type": "code",
   "execution_count": 5,
   "metadata": {},
   "outputs": [],
   "source": [
    "decoder_input = torch.Tensor([[9]]).int()\n",
    "decoder_hidden = torch.rand(1, 1, 256) \n",
    "encoder_outputs = torch.rand(1, 11, 256)\n",
    "mask = torch.Tensor([[True, True, True, True, True, True, True, True, True, True, True]])\n",
    "\n",
    "dummy_vars_decoder =  (decoder_input, decoder_hidden, encoder_outputs, mask)"
   ]
  },
  {
   "cell_type": "code",
   "execution_count": 6,
   "metadata": {},
   "outputs": [],
   "source": [
    "result_original_decoder = _THAI_TO_ROM._network.decoder(*dummy_vars_decoder)"
   ]
  },
  {
   "cell_type": "code",
   "execution_count": 7,
   "metadata": {},
   "outputs": [],
   "source": [
    "result_original_encoder = _THAI_TO_ROM._network.encoder(*dummy_vars_encoder)"
   ]
  },
  {
   "cell_type": "code",
   "execution_count": 8,
   "metadata": {},
   "outputs": [
    {
     "name": "stderr",
     "output_type": "stream",
     "text": [
      "/usr/local/lib/python3.8/site-packages/torch/onnx/symbolic_opset9.py:1941: UserWarning: Exporting a model to ONNX with a batch_size other than 1, with a variable length with LSTM can cause an error when running the ONNX model with a different batch size. Make sure to save the model with a batch size of 1, or define the initial states (h0/c0) as inputs of the model. \n",
      "  warnings.warn(\"Exporting a model to ONNX with a batch_size other than 1, \" +\n"
     ]
    }
   ],
   "source": [
    "dynamic_axes = {'input_tensor': {1: 'input_length'}, 'encoder_outputs': {1: 'encoder_output_length'}}\n",
    "\n",
    "torch.onnx.export(_THAI_TO_ROM._network.encoder, dummy_vars_encoder, \\\n",
    "        \"thai2rom_encoder.onnx\", \\\n",
    "        # verbose=True, \\\n",
    "        input_names=['input_tensor', 'input_lengths'], \\\n",
    "        output_names=['encoder_outputs', 'encoder_hidden_1', 'encoder_hidden_2'], \\\n",
    "        opset_version=13, \\\n",
    "        dynamic_axes=dynamic_axes)\n"
   ]
  },
  {
   "cell_type": "code",
   "execution_count": 9,
   "metadata": {},
   "outputs": [],
   "source": [
    "decoder_input = torch.Tensor([[9]]).int()\n",
    "decoder_hidden = torch.rand(1, 1, 256) \n",
    "encoder_outputs = torch.rand(1, 11, 256)\n",
    "mask = torch.Tensor([[True, True, True, True, True, True, True, True, True, True, True]])\n",
    "\n",
    "dummy_vars_decoder =  (decoder_input, decoder_hidden, encoder_outputs, mask)"
   ]
  },
  {
   "cell_type": "code",
   "execution_count": 10,
   "metadata": {},
   "outputs": [],
   "source": [
    "dynamic_axes = {\n",
    "                'encoder_outputs': {1: 'input_length'}, \\\n",
    "                'mask': {1: 'input_length'}\n",
    "        }\n",
    "\n",
    "torch.onnx.export(_THAI_TO_ROM._network.decoder, dummy_vars_decoder, \\\n",
    "        \"thai2rom_decoder.onnx\", \\\n",
    "        # verbose=True, \\\n",
    "        input_names=['decoder_input', 'decoder_hidden_1', 'encoder_outputs', 'mask'], \\\n",
    "        output_names=['decoder_output', 'decoder_hidden_2'], \\\n",
    "        opset_version=13, \\\n",
    "        dynamic_axes=dynamic_axes)\n"
   ]
  },
  {
   "cell_type": "code",
   "execution_count": 11,
   "metadata": {},
   "outputs": [],
   "source": [
    "from onnxruntime import InferenceSession\n",
    "\n",
    "encoder_session = InferenceSession('./thai2rom_encoder.onnx')\n",
    "decoder_session = InferenceSession('./thai2rom_decoder.onnx')"
   ]
  }
 ],
 "metadata": {
  "kernelspec": {
   "display_name": "Python 3.8.15 64-bit",
   "language": "python",
   "name": "python3"
  },
  "language_info": {
   "codemirror_mode": {
    "name": "ipython",
    "version": 3
   },
   "file_extension": ".py",
   "mimetype": "text/x-python",
   "name": "python",
   "nbconvert_exporter": "python",
   "pygments_lexer": "ipython3",
   "version": "3.8.15"
  },
  "orig_nbformat": 4,
  "vscode": {
   "interpreter": {
    "hash": "949777d72b0d2535278d3dc13498b2535136f6dfe0678499012e853ee9abcab1"
   }
  }
 },
 "nbformat": 4,
 "nbformat_minor": 2
}
